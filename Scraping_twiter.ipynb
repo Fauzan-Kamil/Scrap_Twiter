{
 "cells": [
  {
   "cell_type": "code",
   "execution_count": 1,
   "metadata": {},
   "outputs": [],
   "source": [
    "import tweepy as tw\n",
    "import pandas as pd"
   ]
  },
  {
   "cell_type": "code",
   "execution_count": 2,
   "metadata": {},
   "outputs": [],
   "source": [
    "api_key = \"your api key\"\n",
    "api_secret_key = \"your api secret key\"\n",
    "access_token = \"your access token\"\n",
    "access_token_secret = \"your access token secret\""
   ]
  },
  {
   "cell_type": "code",
   "execution_count": 3,
   "metadata": {},
   "outputs": [],
   "source": [
    "# Authenticate to Twitter\n",
    "auth = tw.OAuthHandler(api_key, api_secret_key)\n",
    "auth.set_access_token(access_token, access_token_secret)\n",
    "api = tw.API(auth)"
   ]
  },
  {
   "cell_type": "code",
   "execution_count": 4,
   "metadata": {},
   "outputs": [
    {
     "name": "stderr",
     "output_type": "stream",
     "text": [
      "Unexpected parameter: id\n"
     ]
    }
   ],
   "source": [
    "# Collect tweets dari user \n",
    "tweets = api.user_timeline(id='aniesbaswedan', count=20)"
   ]
  },
  {
   "cell_type": "code",
   "execution_count": 5,
   "metadata": {},
   "outputs": [],
   "source": [
    "#for tweet in tweets:\n",
    "#    print(tweet.text)\n"
   ]
  },
  {
   "cell_type": "code",
   "execution_count": 13,
   "metadata": {},
   "outputs": [
    {
     "name": "stderr",
     "output_type": "stream",
     "text": [
      "Unexpected parameter: since\n"
     ]
    }
   ],
   "source": [
    "# Collect tweets dari search \n",
    "search_words = \"minyak goreng mahal\"\n",
    "# Dari tanggal tertentu \n",
    "#date_since = \"2021-01-01\" or \"2021-01-31\" \n",
    "\n",
    "hasil_search = api.search_tweets(q=search_words, lang=\"id\", since=\"2021-01-01\", count=20, tweet_mode=\"extended\", result_type=\"recent\")\n"
   ]
  },
  {
   "cell_type": "code",
   "execution_count": 15,
   "metadata": {},
   "outputs": [],
   "source": [
    "#hasil_search"
   ]
  },
  {
   "cell_type": "code",
   "execution_count": 16,
   "metadata": {},
   "outputs": [
    {
     "data": {
      "text/html": [
       "<div>\n",
       "<style scoped>\n",
       "    .dataframe tbody tr th:only-of-type {\n",
       "        vertical-align: middle;\n",
       "    }\n",
       "\n",
       "    .dataframe tbody tr th {\n",
       "        vertical-align: top;\n",
       "    }\n",
       "\n",
       "    .dataframe thead th {\n",
       "        text-align: right;\n",
       "    }\n",
       "</style>\n",
       "<table border=\"1\" class=\"dataframe\">\n",
       "  <thead>\n",
       "    <tr style=\"text-align: right;\">\n",
       "      <th></th>\n",
       "      <th>Username</th>\n",
       "      <th>Tanggal</th>\n",
       "      <th>Tweet</th>\n",
       "    </tr>\n",
       "  </thead>\n",
       "  <tbody>\n",
       "    <tr>\n",
       "      <th>0</th>\n",
       "      <td>A͓̽D͓̽I͓̽ ͓̽H͓̽A͓̽R͓̽Y͓̽O͓̽</td>\n",
       "      <td>2023-01-11 13:21:02+00:00</td>\n",
       "      <td>b'@ipoksamidub @Sam_Ardi @briand_fergie @buday...</td>\n",
       "    </tr>\n",
       "    <tr>\n",
       "      <th>1</th>\n",
       "      <td>Juuu🦖</td>\n",
       "      <td>2023-01-11 11:13:15+00:00</td>\n",
       "      <td>b'Aku orangnya apa2 cerita ga bisa distop. Tap...</td>\n",
       "    </tr>\n",
       "    <tr>\n",
       "      <th>2</th>\n",
       "      <td>ika the sailor woman ⛵️</td>\n",
       "      <td>2023-01-11 08:47:02+00:00</td>\n",
       "      <td>b'@subisaja Minyaknya buat goreng pisang goren...</td>\n",
       "    </tr>\n",
       "    <tr>\n",
       "      <th>3</th>\n",
       "      <td>mencobangkit</td>\n",
       "      <td>2023-01-11 06:59:28+00:00</td>\n",
       "      <td>b'@worksfess Agaknya beliau ini mengerti keing...</td>\n",
       "    </tr>\n",
       "    <tr>\n",
       "      <th>4</th>\n",
       "      <td>stampede</td>\n",
       "      <td>2023-01-11 04:04:53+00:00</td>\n",
       "      <td>b'RT @aldhiraaa: @indrahasto @salimafillah 1) ...</td>\n",
       "    </tr>\n",
       "    <tr>\n",
       "      <th>5</th>\n",
       "      <td>Bhu Eukh Hki DeunkH</td>\n",
       "      <td>2023-01-10 17:40:53+00:00</td>\n",
       "      <td>b'Tuh Noes Murni Hukum , suruh BuzzerRp mu jan...</td>\n",
       "    </tr>\n",
       "    <tr>\n",
       "      <th>6</th>\n",
       "      <td>🌿siswiyantisugi🌿</td>\n",
       "      <td>2023-01-10 15:23:39+00:00</td>\n",
       "      <td>b'@Official_PAN @ZUL_Hasan Pastikan harga dan ...</td>\n",
       "    </tr>\n",
       "    <tr>\n",
       "      <th>7</th>\n",
       "      <td>Cecilia.</td>\n",
       "      <td>2023-01-10 15:08:41+00:00</td>\n",
       "      <td>b'@fvahrrad minyak goreng sekarang mahal koko,...</td>\n",
       "    </tr>\n",
       "    <tr>\n",
       "      <th>8</th>\n",
       "      <td>tirtoid</td>\n",
       "      <td>2023-01-10 06:34:46+00:00</td>\n",
       "      <td>b'Berdasarkan data PIHPS nasional, daging sapi...</td>\n",
       "    </tr>\n",
       "    <tr>\n",
       "      <th>9</th>\n",
       "      <td>🇸 🇺 🇵 🇪 🇷 🇧 🇴 🇾</td>\n",
       "      <td>2023-01-10 06:07:24+00:00</td>\n",
       "      <td>b'BBM mahal Minyak goreng Mahal Pli mahal Eh s...</td>\n",
       "    </tr>\n",
       "    <tr>\n",
       "      <th>10</th>\n",
       "      <td>nuridahay4t1</td>\n",
       "      <td>2023-01-09 21:14:07+00:00</td>\n",
       "      <td>b'RT @aldhiraaa: @indrahasto @salimafillah 1) ...</td>\n",
       "    </tr>\n",
       "    <tr>\n",
       "      <th>11</th>\n",
       "      <td>Druig</td>\n",
       "      <td>2023-01-09 14:40:03+00:00</td>\n",
       "      <td>b'@partai_hijau Giliran minyak goreng mahal pa...</td>\n",
       "    </tr>\n",
       "    <tr>\n",
       "      <th>12</th>\n",
       "      <td>Fauzan Rahman</td>\n",
       "      <td>2023-01-09 12:13:31+00:00</td>\n",
       "      <td>b'Anjing minyak goreng mahal bgt'</td>\n",
       "    </tr>\n",
       "    <tr>\n",
       "      <th>13</th>\n",
       "      <td>Bun's</td>\n",
       "      <td>2023-01-09 09:24:00+00:00</td>\n",
       "      <td>b'RT @ErickFernandoW: @harismz Pecel lele di k...</td>\n",
       "    </tr>\n",
       "    <tr>\n",
       "      <th>14</th>\n",
       "      <td>Kandjeng Ratoe</td>\n",
       "      <td>2023-01-09 08:50:22+00:00</td>\n",
       "      <td>b'RT @aldhiraaa: @indrahasto @salimafillah 1) ...</td>\n",
       "    </tr>\n",
       "    <tr>\n",
       "      <th>15</th>\n",
       "      <td>Aldhira</td>\n",
       "      <td>2023-01-09 08:31:39+00:00</td>\n",
       "      <td>b'@indrahasto @salimafillah 1) minyak babi leb...</td>\n",
       "    </tr>\n",
       "    <tr>\n",
       "      <th>16</th>\n",
       "      <td>fawwah</td>\n",
       "      <td>2023-01-09 06:05:25+00:00</td>\n",
       "      <td>b'Tapi bagi i tak. Sepanjang i jaga my cat sek...</td>\n",
       "    </tr>\n",
       "    <tr>\n",
       "      <th>17</th>\n",
       "      <td>Erick Fernando</td>\n",
       "      <td>2023-01-09 05:23:29+00:00</td>\n",
       "      <td>b'@harismz Pecel lele di kasih minyak babi, ru...</td>\n",
       "    </tr>\n",
       "    <tr>\n",
       "      <th>18</th>\n",
       "      <td>yedi_ex_TKI</td>\n",
       "      <td>2023-01-09 04:00:01+00:00</td>\n",
       "      <td>b'@HidayatBiin PKS tegas2 bela kepentingan rak...</td>\n",
       "    </tr>\n",
       "    <tr>\n",
       "      <th>19</th>\n",
       "      <td>َ</td>\n",
       "      <td>2023-01-09 02:14:38+00:00</td>\n",
       "      <td>b'baru tau kalo minyak kayu putih 120 ml lebih...</td>\n",
       "    </tr>\n",
       "  </tbody>\n",
       "</table>\n",
       "</div>"
      ],
      "text/plain": [
       "                       Username                   Tanggal  \\\n",
       "0   A͓̽D͓̽I͓̽ ͓̽H͓̽A͓̽R͓̽Y͓̽O͓̽ 2023-01-11 13:21:02+00:00   \n",
       "1                         Juuu🦖 2023-01-11 11:13:15+00:00   \n",
       "2       ika the sailor woman ⛵️ 2023-01-11 08:47:02+00:00   \n",
       "3                  mencobangkit 2023-01-11 06:59:28+00:00   \n",
       "4                      stampede 2023-01-11 04:04:53+00:00   \n",
       "5           Bhu Eukh Hki DeunkH 2023-01-10 17:40:53+00:00   \n",
       "6              🌿siswiyantisugi🌿 2023-01-10 15:23:39+00:00   \n",
       "7                      Cecilia. 2023-01-10 15:08:41+00:00   \n",
       "8                       tirtoid 2023-01-10 06:34:46+00:00   \n",
       "9               🇸 🇺 🇵 🇪 🇷 🇧 🇴 🇾 2023-01-10 06:07:24+00:00   \n",
       "10                 nuridahay4t1 2023-01-09 21:14:07+00:00   \n",
       "11                        Druig 2023-01-09 14:40:03+00:00   \n",
       "12                Fauzan Rahman 2023-01-09 12:13:31+00:00   \n",
       "13                        Bun's 2023-01-09 09:24:00+00:00   \n",
       "14               Kandjeng Ratoe 2023-01-09 08:50:22+00:00   \n",
       "15                      Aldhira 2023-01-09 08:31:39+00:00   \n",
       "16                       fawwah 2023-01-09 06:05:25+00:00   \n",
       "17               Erick Fernando 2023-01-09 05:23:29+00:00   \n",
       "18                  yedi_ex_TKI 2023-01-09 04:00:01+00:00   \n",
       "19                            َ 2023-01-09 02:14:38+00:00   \n",
       "\n",
       "                                                Tweet  \n",
       "0   b'@ipoksamidub @Sam_Ardi @briand_fergie @buday...  \n",
       "1   b'Aku orangnya apa2 cerita ga bisa distop. Tap...  \n",
       "2   b'@subisaja Minyaknya buat goreng pisang goren...  \n",
       "3   b'@worksfess Agaknya beliau ini mengerti keing...  \n",
       "4   b'RT @aldhiraaa: @indrahasto @salimafillah 1) ...  \n",
       "5   b'Tuh Noes Murni Hukum , suruh BuzzerRp mu jan...  \n",
       "6   b'@Official_PAN @ZUL_Hasan Pastikan harga dan ...  \n",
       "7   b'@fvahrrad minyak goreng sekarang mahal koko,...  \n",
       "8   b'Berdasarkan data PIHPS nasional, daging sapi...  \n",
       "9   b'BBM mahal Minyak goreng Mahal Pli mahal Eh s...  \n",
       "10  b'RT @aldhiraaa: @indrahasto @salimafillah 1) ...  \n",
       "11  b'@partai_hijau Giliran minyak goreng mahal pa...  \n",
       "12                  b'Anjing minyak goreng mahal bgt'  \n",
       "13  b'RT @ErickFernandoW: @harismz Pecel lele di k...  \n",
       "14  b'RT @aldhiraaa: @indrahasto @salimafillah 1) ...  \n",
       "15  b'@indrahasto @salimafillah 1) minyak babi leb...  \n",
       "16  b'Tapi bagi i tak. Sepanjang i jaga my cat sek...  \n",
       "17  b'@harismz Pecel lele di kasih minyak babi, ru...  \n",
       "18  b'@HidayatBiin PKS tegas2 bela kepentingan rak...  \n",
       "19  b'baru tau kalo minyak kayu putih 120 ml lebih...  "
      ]
     },
     "execution_count": 16,
     "metadata": {},
     "output_type": "execute_result"
    }
   ],
   "source": [
    "# Masukkan ke dalam dataframe kolom tweet dan tanggal \n",
    "df = pd.DataFrame([tweet.user.name for tweet in hasil_search], columns=['Username'])\n",
    "df['Tanggal'] = [tweet.created_at for tweet in hasil_search]\n",
    "df['Tweet'] = [tweet.full_text.encode('utf-8') for tweet in hasil_search]\n",
    "#df['Gambar'] = [tweet.entities.get('media', [{}])[0].get('media_url', None) for tweet in hasil_search]\n",
    "#df['Video'] = [tweet.entities.get('media', [{}])[0].get('video_info', None) for tweet in hasil_search]\n",
    "df"
   ]
  },
  {
   "cell_type": "code",
   "execution_count": 9,
   "metadata": {},
   "outputs": [
    {
     "name": "stdout",
     "output_type": "stream",
     "text": [
      "<class 'pandas.core.frame.DataFrame'>\n",
      "Index: 0 entries\n",
      "Data columns (total 3 columns):\n",
      " #   Column    Non-Null Count  Dtype  \n",
      "---  ------    --------------  -----  \n",
      " 0   Username  0 non-null      object \n",
      " 1   Tanggal   0 non-null      float64\n",
      " 2   Tweet     0 non-null      float64\n",
      "dtypes: float64(2), object(1)\n",
      "memory usage: 0.0+ bytes\n"
     ]
    }
   ],
   "source": [
    "df.info()"
   ]
  },
  {
   "cell_type": "code",
   "execution_count": 10,
   "metadata": {},
   "outputs": [],
   "source": [
    "# export ke csv\n",
    "df.to_csv('hasil_search.csv', index=False)"
   ]
  }
 ],
 "metadata": {
  "kernelspec": {
   "display_name": "ds-tf",
   "language": "python",
   "name": "python3"
  },
  "language_info": {
   "codemirror_mode": {
    "name": "ipython",
    "version": 3
   },
   "file_extension": ".py",
   "mimetype": "text/x-python",
   "name": "python",
   "nbconvert_exporter": "python",
   "pygments_lexer": "ipython3",
   "version": "3.10.4"
  },
  "orig_nbformat": 4,
  "vscode": {
   "interpreter": {
    "hash": "0ea338d71ad573372209b6f653cfe18bd9dc1fa4fb754059b5f63677e20fb1a8"
   }
  }
 },
 "nbformat": 4,
 "nbformat_minor": 2
}
